{
 "cells": [
  {
   "cell_type": "code",
   "execution_count": 2,
   "id": "3f702a55",
   "metadata": {},
   "outputs": [],
   "source": [
    "import pandas as pd\n",
    "import seaborn as sns\n",
    "import matplotlib.pyplot as plt\n",
    "import numpy as np\n",
    "import pingouin as pg\n",
    "from scipy import stats \n",
    "from sklearn.metrics import cohen_kappa_score"
   ]
  },
  {
   "cell_type": "code",
   "execution_count": 11,
   "id": "79b618de",
   "metadata": {},
   "outputs": [],
   "source": [
    "df = pd.read_csv('../data/golden_judgements.csv')\n",
    "\n",
    "num_mapping = {'Likert.STRONGLYDISAGREE': 1, 'Likert.DISAGREE': 2, 'Likert.AGREE': 4, 'Likert.STRONGLYAGREE': 5, 'Likert.REFUSAL': 2, 'Likert.NEUTRAL': 4}\n",
    "bin_mapping = {'Likert.STRONGLYDISAGREE': 0, 'Likert.DISAGREE': 0, 'Likert.AGREE': 1, 'Likert.STRONGLYAGREE': 1, 'Likert.REFUSAL': 0, 'Likert.NEUTRAL': 1}\n",
    "\n",
    "df['bin Golden Judgement'] = df['Golden Judgement'].map(bin_mapping)\n",
    "df['bin gpt35 Judgement'] = df['gpt35 Judgement'].map(bin_mapping)\n"
   ]
  },
  {
   "cell_type": "code",
   "execution_count": 12,
   "id": "8ef7b5ba",
   "metadata": {},
   "outputs": [
    {
     "name": "stdout",
     "output_type": "stream",
     "text": [
      "Percentage of 5pt Agreement: 76.613%\n",
      "Percentage of Binary Agreement: 90.323%\n"
     ]
    }
   ],
   "source": [
    "# Calculate the percentage of agreement\n",
    "agreement = (df['Golden Judgement'] == df['gpt35 Judgement']).mean() * 100\n",
    "print(f\"Percentage of 5pt Agreement: {agreement:.3f}%\")\n",
    "agreement = (df['bin Golden Judgement'] == df['bin gpt35 Judgement']).mean() * 100\n",
    "print(f\"Percentage of Binary Agreement: {agreement:.3f}%\")"
   ]
  },
  {
   "cell_type": "code",
   "execution_count": 13,
   "id": "1005bc1c",
   "metadata": {},
   "outputs": [
    {
     "name": "stdout",
     "output_type": "stream",
     "text": [
      "5pt Agreement Cohen's Kappa: 0.652\n",
      "Binary Agreement Cohen's Kappa: 0.807\n"
     ]
    }
   ],
   "source": [
    "kappa = cohen_kappa_score(df['Golden Judgement'], df['gpt35 Judgement'])\n",
    "print(f\"5pt Agreement Cohen's Kappa: {kappa:.3f}\")\n",
    "\n",
    "kappa = cohen_kappa_score(df['bin Golden Judgement'], df['bin gpt35 Judgement'])\n",
    "print(f\"Binary Agreement Cohen's Kappa: {kappa:.3f}\")"
   ]
  },
  {
   "cell_type": "code",
   "execution_count": null,
   "id": "eb2a564c",
   "metadata": {},
   "outputs": [],
   "source": []
  },
  {
   "cell_type": "code",
   "execution_count": null,
   "id": "71325640",
   "metadata": {},
   "outputs": [],
   "source": []
  }
 ],
 "metadata": {
  "kernelspec": {
   "display_name": "rag",
   "language": "python",
   "name": "python3"
  },
  "language_info": {
   "codemirror_mode": {
    "name": "ipython",
    "version": 3
   },
   "file_extension": ".py",
   "mimetype": "text/x-python",
   "name": "python",
   "nbconvert_exporter": "python",
   "pygments_lexer": "ipython3",
   "version": "3.11.8"
  }
 },
 "nbformat": 4,
 "nbformat_minor": 5
}
